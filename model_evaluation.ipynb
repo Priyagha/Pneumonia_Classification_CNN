{
 "cells": [
  {
   "cell_type": "code",
   "execution_count": null,
   "metadata": {},
   "outputs": [],
   "source": [
    "import torch\n",
    "import torchvision\n",
    "from torchvision import transforms\n",
    "import torchmetrics\n",
    "from tqdm.notebook import tqdm\n",
    "import numpy as np\n",
    "import matplotlib.pyplot as plt\n",
    "from model import PneumoniaModel\n"
   ]
  },
  {
   "cell_type": "code",
   "execution_count": null,
   "metadata": {},
   "outputs": [],
   "source": [
    "# Defining a loader function, **load_file**, which defines how the files shall be loaded.\n",
    "def load_file(path):\n",
    "    return np.load(path).astype(np.float32)"
   ]
  },
  {
   "cell_type": "code",
   "execution_count": null,
   "metadata": {},
   "outputs": [],
   "source": [
    "batch_size = 16\n",
    "num_workers = 4\n",
    "\n",
    "val_transforms = transforms.Compose([\n",
    "                                    transforms.ToTensor(),  # Convert numpy array to tensor\n",
    "                                    transforms.Normalize([0.49], [0.248]),  # Use mean and std from preprocessing notebook\n",
    "                                    ])\n",
    "val_dataset = torchvision.datasets.DatasetFolder(\"Data/Processed/val/\",loader=load_file, extensions=\"npy\", transform=val_transforms)\n",
    "val_loader = torch.utils.data.DataLoader(val_dataset, batch_size=batch_size, num_workers=num_workers, shuffle=False)"
   ]
  },
  {
   "cell_type": "code",
   "execution_count": null,
   "metadata": {},
   "outputs": [],
   "source": [
    "device = torch.device(\"cuda:0\" if torch.cuda.is_available() else \"cpu\")\n",
    "model = PneumoniaModel.load_from_checkpoint(\"weights/weights_3.ckpt\", strict=False)\n",
    "model.eval()"
   ]
  },
  {
   "cell_type": "markdown",
   "metadata": {},
   "source": [
    "# Model Evaluation\n",
    "Computing prediction on the entire validation set and storing predictions and labels\n"
   ]
  },
  {
   "cell_type": "code",
   "execution_count": null,
   "metadata": {},
   "outputs": [],
   "source": [
    "preds = []\n",
    "labels = []\n",
    "with torch.no_grad():\n",
    "    for data, label in tqdm(val_dataset):\n",
    "        data = data.to(device).float().unsqueeze(0)\n",
    "        pred = torch.sigmoid(model(data)[0].cpu())\n",
    "        preds.append(pred)\n",
    "        labels.append(label)\n",
    "preds = torch.tensor(preds)\n",
    "labels = torch.tensor(labels).int()\n"
   ]
  },
  {
   "cell_type": "markdown",
   "metadata": {},
   "source": [
    "### Compute metrics:\n",
    "We can see that the overall result is already decent with our simple model.<br />\n",
    "However, we suffer from a large amount of False Negatives due to the data imbalance.<br />\n",
    "This is of particular importance in to avoid in medical imaging as missing findings might be fatal.<br />\n"
   ]
  },
  {
   "cell_type": "code",
   "execution_count": null,
   "metadata": {},
   "outputs": [],
   "source": [
    "accuracy = torchmetrics.Accuracy()(preds, labels)\n",
    "precision = torchmetrics.Precision()(preds, labels)\n",
    "recall = torchmetrics.Recall()(preds, labels)\n",
    "cm = torchmetrics.ConfusionMatrix(num_classes=2)(preds, labels)\n",
    "cm_threshed = torchmetrics.ConfusionMatrix(num_classes=2, threshold=0.25)(preds, labels)\n",
    "\n",
    "print(f\"Validation Accuracy: {accuracy}\")\n",
    "print(f\"Validation Precision: {precision}\")\n",
    "print(f\"Validation Recall: {recall}\")\n",
    "print(f\"Confusion Matrix:\\n {cm}\")\n",
    "print(f\"Confusion Matrix 2:\\n {cm_threshed}\")"
   ]
  },
  {
   "cell_type": "code",
   "execution_count": null,
   "metadata": {},
   "outputs": [],
   "source": [
    "# Getting few images with model prediction \n",
    "fig, axis = plt.subplots(3, 3, figsize=(9, 9))\n",
    "for i in range(3):\n",
    "    for j in range(3):\n",
    "        rnd_idx = np.random.randint(0, len(preds))\n",
    "        axis[i][j].imshow(val_dataset[rnd_idx][0][0], cmap=\"bone\")\n",
    "        axis[i][j].set_title(f\"Pred:{int(preds[rnd_idx] > 0.5)}, Label:{labels[rnd_idx]}\")\n",
    "        axis[i][j].axis(\"off\")\n"
   ]
  }
 ],
 "metadata": {
  "language_info": {
   "name": "python"
  }
 },
 "nbformat": 4,
 "nbformat_minor": 2
}
